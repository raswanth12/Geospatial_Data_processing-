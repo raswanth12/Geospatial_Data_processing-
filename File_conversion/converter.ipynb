{
 "cells": [
  {
   "cell_type": "code",
   "execution_count": null,
   "metadata": {},
   "outputs": [],
   "source": [
    "pip install geopandas matplotlib\n"
   ]
  },
  {
   "cell_type": "code",
   "execution_count": 2,
   "metadata": {},
   "outputs": [],
   "source": [
    "import geopandas as gpd\n",
    "import matplotlib.pyplot as plt\n",
    "from IPython.display import Image"
   ]
  },
  {
   "cell_type": "code",
   "execution_count": 8,
   "metadata": {},
   "outputs": [
    {
     "ename": "IndentationError",
     "evalue": "expected an indented block after function definition on line 1 (3615202824.py, line 2)",
     "output_type": "error",
     "traceback": [
      "\u001b[1;36m  Cell \u001b[1;32mIn[8], line 2\u001b[1;36m\u001b[0m\n\u001b[1;33m    kmz_file_path = r'C:\\path\\to\\your\\data\\NY_Brooklyn_20230531_TM_geo_kmz\\NY_Brooklyn_20230531_TM.kmz'\u001b[0m\n\u001b[1;37m    ^\u001b[0m\n\u001b[1;31mIndentationError\u001b[0m\u001b[1;31m:\u001b[0m expected an indented block after function definition on line 1\n"
     ]
    }
   ],
   "source": [
    "def kmz_to_gdf(kmz_path):\n",
    "kmz_file_path = r'C:\\path\\to\\your\\data\\NY_Brooklyn_20230531_TM_geo_kmz\\NY_Brooklyn_20230531_TM.kmz'\n",
    "    return kmz\n",
    "\n",
    "\n",
    "\n",
    "def plot_and_save(gdf, output_png_path):\n",
    "    fig, ax = plt.subplots(figsize=(10, 10))\n",
    "    gdf.plot(ax=ax, color='blue')\n",
    "    plt.axis('off')  # Optional: Turn off axis if you don't want them in the PNG\n",
    "    plt.savefig(output_png_path, bbox_inches='tight', pad_inches=0)\n",
    "    plt.close()\n",
    "\n",
    "\n",
    "def convert_kmz_to_png(kmz_path, output_png_path):\n",
    "    gdf = kmz_to_gdf(kmz_path)\n",
    "    plot_and_save(gdf, output_png_path)\n",
    "\n",
    "\n",
    "def embed_png_in_blog(output_png_path):\n",
    "    img = Image(filename=output_png_path)\n",
    "    display(img)\n",
    "\n",
    "\n",
    "# Example usage\n",
    "kmz_file_path = 'data\\\\NY_Brooklyn_20230531_TM_geo_kmz\\\\NY_Brooklyn_20230531_TM.kmz'\n",
    "output_png_path = 'output_image.png'\n",
    "\n",
    "convert_kmz_to_png(kmz_file_path, output_png_path)\n",
    "embed_png_in_blog(output_png_path)"
   ]
  }
 ],
 "metadata": {
  "kernelspec": {
   "display_name": "Python 3",
   "language": "python",
   "name": "python3"
  },
  "language_info": {
   "codemirror_mode": {
    "name": "ipython",
    "version": 3
   },
   "file_extension": ".py",
   "mimetype": "text/x-python",
   "name": "python",
   "nbconvert_exporter": "python",
   "pygments_lexer": "ipython3",
   "version": "3.12.1"
  }
 },
 "nbformat": 4,
 "nbformat_minor": 2
}
